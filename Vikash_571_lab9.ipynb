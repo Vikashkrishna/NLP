{
  "nbformat": 4,
  "nbformat_minor": 0,
  "metadata": {
    "colab": {
      "provenance": []
    },
    "kernelspec": {
      "name": "python3",
      "display_name": "Python 3"
    },
    "language_info": {
      "name": "python"
    }
  },
  "cells": [
    {
      "cell_type": "markdown",
      "source": [
        "Implement the Edit Distance."
      ],
      "metadata": {
        "id": "wLuDQf__x33k"
      }
    },
    {
      "cell_type": "code",
      "execution_count": null,
      "metadata": {
        "colab": {
          "base_uri": "https://localhost:8080/"
        },
        "id": "_yUCjbZnO8ct",
        "outputId": "63d4b188-d5e0-46fa-991a-ded4741beea9"
      },
      "outputs": [
        {
          "output_type": "stream",
          "name": "stdout",
          "text": [
            "Edit distance between 'sunday' and 'saturday' is 3\n"
          ]
        }
      ],
      "source": [
        "def edit_distance(str1, str2):\n",
        "    m = len(str1)\n",
        "    n = len(str2)\n",
        "\n",
        "    # Create a table to store results of subproblems\n",
        "    dp = [[0] * (n + 1) for _ in range(m + 1)]\n",
        "\n",
        "\n",
        "    for i in range(m + 1):\n",
        "        for j in range(n + 1):\n",
        "            # If first string is empty, only option is to\n",
        "            # insert all characters of second string\n",
        "            if i == 0:\n",
        "                dp[i][j] = j\n",
        "            # If second string is empty, only option is to\n",
        "            # remove all characters of second string\n",
        "            elif j == 0:\n",
        "                dp[i][j] = i\n",
        "            # If last characters are same, ignore last char\n",
        "            # and recur for remaining string\n",
        "            elif str1[i - 1] == str2[j - 1]:\n",
        "                dp[i][j] = dp[i - 1][j - 1]\n",
        "            # If the last character is different, consider\n",
        "            # all possibilities and find the minimum\n",
        "            else:\n",
        "                dp[i][j] = 1 + min(dp[i][j - 1],        # Insert\n",
        "                                   dp[i - 1][j],        # Remove\n",
        "                                   dp[i - 1][j - 1])    # Replace\n",
        "\n",
        "    return dp[m][n]\n",
        "\n",
        "# Example\n",
        "str1 = \"sunday\"\n",
        "str2 = \"saturday\"\n",
        "print(\"Edit distance between '{}' and '{}' is {}\".format(str1, str2, edit_distance(str1, str2)))\n"
      ]
    },
    {
      "cell_type": "markdown",
      "source": [
        " Implement the Story or Poem Creator based on the keywords using NLG."
      ],
      "metadata": {
        "id": "8Wjpso0ix7m8"
      }
    },
    {
      "cell_type": "code",
      "source": [
        "import random\n",
        "\n",
        "def generate_story(keywords):\n",
        "    # Sample templates\n",
        "    templates = [\n",
        "        \"Once upon a time, in a {} far away, there was a {}. {}\",\n",
        "        \"In the {} {}, there lived {}. {}. It was a {} place indeed.\",\n",
        "        \"Among {}, there was one {} who {}. And thus, the story unfolds {}.\",\n",
        "    ]\n",
        "\n",
        "    # Randomly select a template\n",
        "    template = random.choice(templates)\n",
        "\n",
        "    # Fill in the template with provided keywords\n",
        "    story = template.format(*keywords)\n",
        "\n",
        "    return story\n",
        "\n",
        "# Example usage\n",
        "keywords = [\"magical kingdom\", \"brave knight\", \"He fought dragons and rescued princess.\", \"thereafter\"]\n",
        "print(generate_story(keywords))\n"
      ],
      "metadata": {
        "colab": {
          "base_uri": "https://localhost:8080/"
        },
        "id": "-YknRvd0PAKx",
        "outputId": "4827b0ac-f9ab-45fc-98a2-a5f4062fdad0"
      },
      "execution_count": null,
      "outputs": [
        {
          "output_type": "stream",
          "name": "stdout",
          "text": [
            "Among magical kingdom, there was one brave knight who He fought dragons and rescued princess.. And thus, the story unfolds thereafter.\n"
          ]
        }
      ]
    }
  ]
}