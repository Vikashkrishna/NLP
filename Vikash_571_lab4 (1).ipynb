{
  "nbformat": 4,
  "nbformat_minor": 0,
  "metadata": {
    "colab": {
      "provenance": []
    },
    "kernelspec": {
      "name": "python3",
      "display_name": "Python 3"
    },
    "language_info": {
      "name": "python"
    }
  },
  "cells": [
    {
      "cell_type": "markdown",
      "source": [
        "WordNet organizes words into sets of synonyms called synsets, where each synset represents a distinct concept or meaning and contains a set of words (lemmas) that are synonymous or closely related in meaning. These synsets are interconnected through various semantic relationships such as hypernyms (more general terms), hyponyms (more specific terms), meronyms (part-whole relationships), and others.The primary goal of WordNet is to capture the meanings and relationships between words in a way that reflects human understanding of the language."
      ],
      "metadata": {
        "id": "jwJGC6YOa3N_"
      }
    },
    {
      "cell_type": "markdown",
      "source": [
        "a.Find the third meaning of the word"
      ],
      "metadata": {
        "id": "lbsrL2p3fcN_"
      }
    },
    {
      "cell_type": "code",
      "execution_count": null,
      "metadata": {
        "colab": {
          "base_uri": "https://localhost:8080/"
        },
        "id": "BQrYi2BCZZYL",
        "outputId": "8274a032-5faf-441e-b2c2-1a9c30cc50f8"
      },
      "outputs": [
        {
          "output_type": "stream",
          "name": "stderr",
          "text": [
            "[nltk_data] Downloading package wordnet to /root/nltk_data...\n"
          ]
        },
        {
          "output_type": "stream",
          "name": "stdout",
          "text": [
            "The word 'apple' does not have a 3rd meaning in WordNet\n",
            "The word 'banana' does not have a 3rd meaning in WordNet\n",
            "The 3rd meaning of 'carrot': orange root; important source of carotene\n",
            "The 3rd meaning of 'dog': informal term for a man\n",
            "The word 'elephant' does not have a 3rd meaning in WordNet\n"
          ]
        }
      ],
      "source": [
        "import nltk\n",
        "nltk.download('wordnet')\n",
        "from nltk.corpus import wordnet\n",
        "\n",
        "# Word list\n",
        "words = [\"apple\", \"banana\", \"carrot\", \"dog\", \"elephant\"]\n",
        "\n",
        "\n",
        "for word in words:\n",
        "    synsets = wordnet.synsets(word)\n",
        "\n",
        "    if len(synsets) >= 3:\n",
        "        third_meaning = synsets[2]\n",
        "        print(f\"The 3rd meaning of '{word}': {third_meaning.definition()}\")\n",
        "    else:\n",
        "        print(f\"The word '{word}' does not have a 3rd meaning in WordNet\")\n"
      ]
    },
    {
      "cell_type": "markdown",
      "source": [
        "b. Extracting the nouns of the word from the synonyms list."
      ],
      "metadata": {
        "id": "vMx9asVbbYIG"
      }
    },
    {
      "cell_type": "code",
      "source": [
        "for word in words:\n",
        "    synsets = wordnet.synsets(word)\n",
        "\n",
        "    # Extracting nouns\n",
        "    nouns = [lemma.name() for syn in synsets for lemma in syn.lemmas() if syn.pos() == 'n']\n",
        "    print(f\"Nouns of '{word}': {nouns}\")"
      ],
      "metadata": {
        "colab": {
          "base_uri": "https://localhost:8080/"
        },
        "id": "xCoW6tkEa01a",
        "outputId": "e13b123e-cca8-4284-cda8-30696c41b846"
      },
      "execution_count": null,
      "outputs": [
        {
          "output_type": "stream",
          "name": "stdout",
          "text": [
            "Nouns of 'apple': ['apple', 'apple', 'orchard_apple_tree', 'Malus_pumila']\n",
            "Nouns of 'banana': ['banana', 'banana_tree', 'banana']\n",
            "Nouns of 'carrot': ['carrot', 'carrot', 'cultivated_carrot', 'Daucus_carota_sativa', 'carrot', 'carrot']\n",
            "Nouns of 'dog': ['dog', 'domestic_dog', 'Canis_familiaris', 'frump', 'dog', 'dog', 'cad', 'bounder', 'blackguard', 'dog', 'hound', 'heel', 'frank', 'frankfurter', 'hotdog', 'hot_dog', 'dog', 'wiener', 'wienerwurst', 'weenie', 'pawl', 'detent', 'click', 'dog', 'andiron', 'firedog', 'dog', 'dog-iron']\n",
            "Nouns of 'elephant': ['elephant', 'elephant']\n"
          ]
        }
      ]
    },
    {
      "cell_type": "markdown",
      "source": [
        "c.Extracting the verbs of the word from the synonyms list"
      ],
      "metadata": {
        "id": "-ljAjFUaboel"
      }
    },
    {
      "cell_type": "code",
      "source": [
        "for word in words:\n",
        "    synsets = wordnet.synsets(word)\n",
        "\n",
        "    # Extracting verbs\n",
        "    verbs = [lemma.name() for syn in synsets for lemma in syn.lemmas() if syn.pos() == 'v']\n",
        "    print(f\"Verbs of '{word}': {verbs}\")"
      ],
      "metadata": {
        "colab": {
          "base_uri": "https://localhost:8080/"
        },
        "id": "SMe7Ujg1bvnF",
        "outputId": "814ad478-8c7d-4fcd-edd2-8eb03f5ff5ca"
      },
      "execution_count": null,
      "outputs": [
        {
          "output_type": "stream",
          "name": "stdout",
          "text": [
            "Verbs of 'apple': []\n",
            "Verbs of 'banana': []\n",
            "Verbs of 'carrot': []\n",
            "Verbs of 'dog': ['chase', 'chase_after', 'trail', 'tail', 'tag', 'give_chase', 'dog', 'go_after', 'track']\n",
            "Verbs of 'elephant': []\n"
          ]
        }
      ]
    },
    {
      "cell_type": "markdown",
      "source": [
        " d.Extracting the adjectives of the word from the synonyms list."
      ],
      "metadata": {
        "id": "o_VQXeIub8iF"
      }
    },
    {
      "cell_type": "code",
      "source": [
        "for word in words:\n",
        "    synsets = wordnet.synsets(word)\n",
        "\n",
        "    # Extracting adjectives\n",
        "    adjectives = [lemma.name() for syn in synsets for lemma in syn.lemmas() if syn.pos() == 'a']\n",
        "    print(f\"Adjectives of '{word}': {adjectives}\")"
      ],
      "metadata": {
        "colab": {
          "base_uri": "https://localhost:8080/"
        },
        "id": "ZKXVMg94b8G2",
        "outputId": "01ef6460-69c5-4d1a-a503-65bd1b74493b"
      },
      "execution_count": null,
      "outputs": [
        {
          "output_type": "stream",
          "name": "stdout",
          "text": [
            "Adjectives of 'apple': []\n",
            "Adjectives of 'banana': []\n",
            "Adjectives of 'carrot': []\n",
            "Adjectives of 'dog': []\n",
            "Adjectives of 'elephant': []\n"
          ]
        }
      ]
    },
    {
      "cell_type": "markdown",
      "source": [
        "e.Extracting the adverbs of the word from the synonyms list."
      ],
      "metadata": {
        "id": "JDKbo0umcPEr"
      }
    },
    {
      "cell_type": "code",
      "source": [
        "for word in words:\n",
        "    synsets = wordnet.synsets(word)\n",
        "\n",
        "    # Extracting adverbs\n",
        "    adverbs = [lemma.name() for syn in synsets for lemma in syn.lemmas() if syn.pos() == 'r']\n",
        "    print(f\"Adverbs of '{word}': {adverbs}\")"
      ],
      "metadata": {
        "colab": {
          "base_uri": "https://localhost:8080/"
        },
        "id": "rJ8gmpqUcOwK",
        "outputId": "ee86838c-946b-42b0-9989-86469d81a915"
      },
      "execution_count": null,
      "outputs": [
        {
          "output_type": "stream",
          "name": "stdout",
          "text": [
            "Adverbs of 'apple': []\n",
            "Adverbs of 'banana': []\n",
            "Adverbs of 'carrot': []\n",
            "Adverbs of 'dog': []\n",
            "Adverbs of 'elephant': []\n"
          ]
        }
      ]
    },
    {
      "cell_type": "markdown",
      "source": [
        "f.Extracting the definition of the word. (For instance, ‘Bear’ - massive plantigrade carnivorous or  omnivorous mammals with long shaggy coats and strong claws)"
      ],
      "metadata": {
        "id": "c--fepa4cYa9"
      }
    },
    {
      "cell_type": "code",
      "source": [
        "for word in words:\n",
        "    synsets = wordnet.synsets(word)\n",
        "\n",
        "    # Extracting the definition\n",
        "    for syn in synsets:\n",
        "        print(f\"Definition of '{word}': {syn.definition()}\")\n"
      ],
      "metadata": {
        "colab": {
          "base_uri": "https://localhost:8080/"
        },
        "id": "XKczzVczcYAm",
        "outputId": "ec73e77b-a5e1-4607-cde8-96771462843e"
      },
      "execution_count": null,
      "outputs": [
        {
          "output_type": "stream",
          "name": "stdout",
          "text": [
            "Definition of 'apple': fruit with red or yellow or green skin and sweet to tart crisp whitish flesh\n",
            "Definition of 'apple': native Eurasian tree widely cultivated in many varieties for its firm rounded edible fruits\n",
            "Definition of 'banana': any of several tropical and subtropical treelike herbs of the genus Musa having a terminal crown of large entire leaves and usually bearing hanging clusters of elongated fruits\n",
            "Definition of 'banana': elongated crescent-shaped yellow fruit with soft sweet flesh\n",
            "Definition of 'carrot': deep orange edible root of the cultivated carrot plant\n",
            "Definition of 'carrot': perennial plant widely cultivated as an annual in many varieties for its long conical orange edible roots; temperate and tropical regions\n",
            "Definition of 'carrot': orange root; important source of carotene\n",
            "Definition of 'carrot': promise of reward as in\n",
            "Definition of 'dog': a member of the genus Canis (probably descended from the common wolf) that has been domesticated by man since prehistoric times; occurs in many breeds\n",
            "Definition of 'dog': a dull unattractive unpleasant girl or woman\n",
            "Definition of 'dog': informal term for a man\n",
            "Definition of 'dog': someone who is morally reprehensible\n",
            "Definition of 'dog': a smooth-textured sausage of minced beef or pork usually smoked; often served on a bread roll\n",
            "Definition of 'dog': a hinged catch that fits into a notch of a ratchet to move a wheel forward or prevent it from moving backward\n",
            "Definition of 'dog': metal supports for logs in a fireplace\n",
            "Definition of 'dog': go after with the intent to catch\n",
            "Definition of 'elephant': five-toed pachyderm\n",
            "Definition of 'elephant': the symbol of the Republican Party; introduced in cartoons by Thomas Nast in 1874\n"
          ]
        }
      ]
    },
    {
      "cell_type": "markdown",
      "source": [
        " g.Finding the hypernyms of each word."
      ],
      "metadata": {
        "id": "lqdfql3QcqaZ"
      }
    },
    {
      "cell_type": "code",
      "source": [
        "for word in words:\n",
        "    synsets = wordnet.synsets(word)\n",
        "\n",
        "    # Find the hypernyms\n",
        "    hypernyms_list = []\n",
        "    for syn in synsets:\n",
        "        for hypernym in syn.hypernyms():\n",
        "            hypernyms_list.extend(hypernym.lemma_names())\n",
        "\n",
        "    print(f\"Hypernyms of '{word}': {hypernyms_list}\")"
      ],
      "metadata": {
        "colab": {
          "base_uri": "https://localhost:8080/"
        },
        "id": "kjFBPFxEcqzv",
        "outputId": "cfb9a094-a69a-44ae-f61f-769eb510d57c"
      },
      "execution_count": null,
      "outputs": [
        {
          "output_type": "stream",
          "name": "stdout",
          "text": [
            "Hypernyms of 'apple': ['edible_fruit', 'pome', 'false_fruit', 'apple_tree']\n",
            "Hypernyms of 'banana': ['herb', 'herbaceous_plant', 'edible_fruit']\n",
            "Hypernyms of 'carrot': ['root', 'herb', 'herbaceous_plant', 'root_vegetable', 'reward', 'reinforcement']\n",
            "Hypernyms of 'dog': ['canine', 'canid', 'domestic_animal', 'domesticated_animal', 'unpleasant_woman', 'disagreeable_woman', 'chap', 'fellow', 'feller', 'fella', 'lad', 'gent', 'blighter', 'cuss', 'bloke', 'villain', 'scoundrel', 'sausage', 'catch', 'stop', 'support', 'pursue', 'follow']\n",
            "Hypernyms of 'elephant': ['pachyderm', 'proboscidean', 'proboscidian', 'emblem', 'allegory']\n"
          ]
        }
      ]
    },
    {
      "cell_type": "markdown",
      "source": [
        "h.Finding the hyponyms of each word."
      ],
      "metadata": {
        "id": "w7kQ5JNic3TJ"
      }
    },
    {
      "cell_type": "code",
      "source": [
        "for word in words:\n",
        "    synsets = wordnet.synsets(word)\n",
        "\n",
        "    # Find the hyponyms\n",
        "    hyponyms_list = []\n",
        "    for syn in synsets:\n",
        "        for hyponym in syn.hyponyms():\n",
        "            hyponyms_list.extend(hyponym.lemma_names())\n",
        "\n",
        "    print(f\"Hyponyms of '{word}': {hyponyms_list}\")"
      ],
      "metadata": {
        "colab": {
          "base_uri": "https://localhost:8080/"
        },
        "id": "Qbbfb64Jc279",
        "outputId": "4cb41de8-afb6-4397-ecb4-942f229fa5dd"
      },
      "execution_count": null,
      "outputs": [
        {
          "output_type": "stream",
          "name": "stdout",
          "text": [
            "Hyponyms of 'apple': ['cooking_apple', 'crab_apple', 'crabapple', 'eating_apple', 'dessert_apple']\n",
            "Hyponyms of 'banana': ['abaca', 'Manila_hemp', 'Musa_textilis', 'dwarf_banana', 'Musa_acuminata', 'edible_banana', 'Musa_paradisiaca_sapientum', 'Japanese_banana', 'Musa_basjoo', 'plantain', 'plantain_tree', 'Musa_paradisiaca']\n",
            "Hyponyms of 'carrot': []\n",
            "Hyponyms of 'dog': ['basenji', 'corgi', 'Welsh_corgi', 'cur', 'mongrel', 'mutt', 'dalmatian', 'coach_dog', 'carriage_dog', 'Great_Pyrenees', 'griffon', 'Brussels_griffon', 'Belgian_griffon', 'hunting_dog', 'lapdog', 'Leonberg', 'Mexican_hairless', 'Newfoundland', 'Newfoundland_dog', 'pooch', 'doggie', 'doggy', 'barker', 'bow-wow', 'poodle', 'poodle_dog', 'pug', 'pug-dog', 'puppy', 'spitz', 'toy_dog', 'toy', 'working_dog', 'perisher', 'Vienna_sausage', 'hound', 'hunt', 'trace', 'quest', 'run_down', 'tree']\n",
            "Hyponyms of 'elephant': ['African_elephant', 'Loxodonta_africana', 'gomphothere', 'Indian_elephant', 'Elephas_maximus', 'mammoth', 'rogue_elephant']\n"
          ]
        }
      ]
    },
    {
      "cell_type": "markdown",
      "source": [
        "i.Find the similarities of any two hyponyms of a word."
      ],
      "metadata": {
        "id": "bYt_QIs9dDnh"
      }
    },
    {
      "cell_type": "code",
      "source": [
        "def find_hyponym_similarity(word):\n",
        "    synsets = wordnet.synsets(word)\n",
        "\n",
        "    if synsets:\n",
        "        hyponyms = synsets[0].hyponyms()\n",
        "\n",
        "        if len(hyponyms) >= 2:\n",
        "            hyponym1 = hyponyms[0].lemmas()[0].name()\n",
        "            hyponym2 = hyponyms[1].lemmas()[0].name()\n",
        "\n",
        "            similarity = hyponyms[0].path_similarity(hyponyms[1])\n",
        "            return hyponym1, hyponym2, similarity\n",
        "        else:\n",
        "            return \"Word has fewer than 2 hyponyms\"\n",
        "    else:\n",
        "        return \"Word not found in WordNet\"\n",
        "\n",
        "word = \"bear\"  # Replace with the word for which you want to find the hyponym similarities\n",
        "result = find_hyponym_similarity(word)\n",
        "print(f\"Similarity between '{result[0]}' and '{result[1]}': {result[2]}\")"
      ],
      "metadata": {
        "colab": {
          "base_uri": "https://localhost:8080/"
        },
        "id": "384rGv0gdDTm",
        "outputId": "6c32a6a3-dee5-4536-a636-96896a39a6b8"
      },
      "execution_count": null,
      "outputs": [
        {
          "output_type": "stream",
          "name": "stdout",
          "text": [
            "Similarity between 'American_black_bear' and 'Asiatic_black_bear': 0.3333333333333333\n"
          ]
        }
      ]
    }
  ]
}