{
  "nbformat": 4,
  "nbformat_minor": 0,
  "metadata": {
    "colab": {
      "provenance": []
    },
    "kernelspec": {
      "name": "python3",
      "display_name": "Python 3"
    },
    "language_info": {
      "name": "python"
    }
  },
  "cells": [
    {
      "cell_type": "code",
      "execution_count": null,
      "metadata": {
        "id": "TGoogk_4UNVx"
      },
      "outputs": [],
      "source": [
        "import pandas as pd"
      ]
    },
    {
      "cell_type": "code",
      "source": [
        "dt = pd.read_csv('/content/seattle-weather.csv')"
      ],
      "metadata": {
        "id": "-AwVAYqhfjjU"
      },
      "execution_count": null,
      "outputs": []
    },
    {
      "cell_type": "code",
      "source": [
        "dt.head()"
      ],
      "metadata": {
        "colab": {
          "base_uri": "https://localhost:8080/",
          "height": 206
        },
        "id": "8lHBlWylfo_5",
        "outputId": "594e977f-a4f7-4e30-a4b3-ead6279a0da3"
      },
      "execution_count": null,
      "outputs": [
        {
          "output_type": "execute_result",
          "data": {
            "text/plain": [
              "         date  precipitation  temp_max  temp_min  wind  weather\n",
              "0  2012-01-01            0.0      12.8       5.0   4.7  drizzle\n",
              "1  2012-01-02           10.9      10.6       2.8   4.5     rain\n",
              "2  2012-01-03            0.8      11.7       7.2   2.3     rain\n",
              "3  2012-01-04           20.3      12.2       5.6   4.7     rain\n",
              "4  2012-01-05            1.3       8.9       2.8   6.1     rain"
            ],
            "text/html": [
              "\n",
              "  <div id=\"df-a122ae76-113b-4548-8951-6e21cb4ecd53\" class=\"colab-df-container\">\n",
              "    <div>\n",
              "<style scoped>\n",
              "    .dataframe tbody tr th:only-of-type {\n",
              "        vertical-align: middle;\n",
              "    }\n",
              "\n",
              "    .dataframe tbody tr th {\n",
              "        vertical-align: top;\n",
              "    }\n",
              "\n",
              "    .dataframe thead th {\n",
              "        text-align: right;\n",
              "    }\n",
              "</style>\n",
              "<table border=\"1\" class=\"dataframe\">\n",
              "  <thead>\n",
              "    <tr style=\"text-align: right;\">\n",
              "      <th></th>\n",
              "      <th>date</th>\n",
              "      <th>precipitation</th>\n",
              "      <th>temp_max</th>\n",
              "      <th>temp_min</th>\n",
              "      <th>wind</th>\n",
              "      <th>weather</th>\n",
              "    </tr>\n",
              "  </thead>\n",
              "  <tbody>\n",
              "    <tr>\n",
              "      <th>0</th>\n",
              "      <td>2012-01-01</td>\n",
              "      <td>0.0</td>\n",
              "      <td>12.8</td>\n",
              "      <td>5.0</td>\n",
              "      <td>4.7</td>\n",
              "      <td>drizzle</td>\n",
              "    </tr>\n",
              "    <tr>\n",
              "      <th>1</th>\n",
              "      <td>2012-01-02</td>\n",
              "      <td>10.9</td>\n",
              "      <td>10.6</td>\n",
              "      <td>2.8</td>\n",
              "      <td>4.5</td>\n",
              "      <td>rain</td>\n",
              "    </tr>\n",
              "    <tr>\n",
              "      <th>2</th>\n",
              "      <td>2012-01-03</td>\n",
              "      <td>0.8</td>\n",
              "      <td>11.7</td>\n",
              "      <td>7.2</td>\n",
              "      <td>2.3</td>\n",
              "      <td>rain</td>\n",
              "    </tr>\n",
              "    <tr>\n",
              "      <th>3</th>\n",
              "      <td>2012-01-04</td>\n",
              "      <td>20.3</td>\n",
              "      <td>12.2</td>\n",
              "      <td>5.6</td>\n",
              "      <td>4.7</td>\n",
              "      <td>rain</td>\n",
              "    </tr>\n",
              "    <tr>\n",
              "      <th>4</th>\n",
              "      <td>2012-01-05</td>\n",
              "      <td>1.3</td>\n",
              "      <td>8.9</td>\n",
              "      <td>2.8</td>\n",
              "      <td>6.1</td>\n",
              "      <td>rain</td>\n",
              "    </tr>\n",
              "  </tbody>\n",
              "</table>\n",
              "</div>\n",
              "    <div class=\"colab-df-buttons\">\n",
              "\n",
              "  <div class=\"colab-df-container\">\n",
              "    <button class=\"colab-df-convert\" onclick=\"convertToInteractive('df-a122ae76-113b-4548-8951-6e21cb4ecd53')\"\n",
              "            title=\"Convert this dataframe to an interactive table.\"\n",
              "            style=\"display:none;\">\n",
              "\n",
              "  <svg xmlns=\"http://www.w3.org/2000/svg\" height=\"24px\" viewBox=\"0 -960 960 960\">\n",
              "    <path d=\"M120-120v-720h720v720H120Zm60-500h600v-160H180v160Zm220 220h160v-160H400v160Zm0 220h160v-160H400v160ZM180-400h160v-160H180v160Zm440 0h160v-160H620v160ZM180-180h160v-160H180v160Zm440 0h160v-160H620v160Z\"/>\n",
              "  </svg>\n",
              "    </button>\n",
              "\n",
              "  <style>\n",
              "    .colab-df-container {\n",
              "      display:flex;\n",
              "      gap: 12px;\n",
              "    }\n",
              "\n",
              "    .colab-df-convert {\n",
              "      background-color: #E8F0FE;\n",
              "      border: none;\n",
              "      border-radius: 50%;\n",
              "      cursor: pointer;\n",
              "      display: none;\n",
              "      fill: #1967D2;\n",
              "      height: 32px;\n",
              "      padding: 0 0 0 0;\n",
              "      width: 32px;\n",
              "    }\n",
              "\n",
              "    .colab-df-convert:hover {\n",
              "      background-color: #E2EBFA;\n",
              "      box-shadow: 0px 1px 2px rgba(60, 64, 67, 0.3), 0px 1px 3px 1px rgba(60, 64, 67, 0.15);\n",
              "      fill: #174EA6;\n",
              "    }\n",
              "\n",
              "    .colab-df-buttons div {\n",
              "      margin-bottom: 4px;\n",
              "    }\n",
              "\n",
              "    [theme=dark] .colab-df-convert {\n",
              "      background-color: #3B4455;\n",
              "      fill: #D2E3FC;\n",
              "    }\n",
              "\n",
              "    [theme=dark] .colab-df-convert:hover {\n",
              "      background-color: #434B5C;\n",
              "      box-shadow: 0px 1px 3px 1px rgba(0, 0, 0, 0.15);\n",
              "      filter: drop-shadow(0px 1px 2px rgba(0, 0, 0, 0.3));\n",
              "      fill: #FFFFFF;\n",
              "    }\n",
              "  </style>\n",
              "\n",
              "    <script>\n",
              "      const buttonEl =\n",
              "        document.querySelector('#df-a122ae76-113b-4548-8951-6e21cb4ecd53 button.colab-df-convert');\n",
              "      buttonEl.style.display =\n",
              "        google.colab.kernel.accessAllowed ? 'block' : 'none';\n",
              "\n",
              "      async function convertToInteractive(key) {\n",
              "        const element = document.querySelector('#df-a122ae76-113b-4548-8951-6e21cb4ecd53');\n",
              "        const dataTable =\n",
              "          await google.colab.kernel.invokeFunction('convertToInteractive',\n",
              "                                                    [key], {});\n",
              "        if (!dataTable) return;\n",
              "\n",
              "        const docLinkHtml = 'Like what you see? Visit the ' +\n",
              "          '<a target=\"_blank\" href=https://colab.research.google.com/notebooks/data_table.ipynb>data table notebook</a>'\n",
              "          + ' to learn more about interactive tables.';\n",
              "        element.innerHTML = '';\n",
              "        dataTable['output_type'] = 'display_data';\n",
              "        await google.colab.output.renderOutput(dataTable, element);\n",
              "        const docLink = document.createElement('div');\n",
              "        docLink.innerHTML = docLinkHtml;\n",
              "        element.appendChild(docLink);\n",
              "      }\n",
              "    </script>\n",
              "  </div>\n",
              "\n",
              "\n",
              "<div id=\"df-2e794b51-fa12-4e84-ac5f-3c6f06c9661f\">\n",
              "  <button class=\"colab-df-quickchart\" onclick=\"quickchart('df-2e794b51-fa12-4e84-ac5f-3c6f06c9661f')\"\n",
              "            title=\"Suggest charts\"\n",
              "            style=\"display:none;\">\n",
              "\n",
              "<svg xmlns=\"http://www.w3.org/2000/svg\" height=\"24px\"viewBox=\"0 0 24 24\"\n",
              "     width=\"24px\">\n",
              "    <g>\n",
              "        <path d=\"M19 3H5c-1.1 0-2 .9-2 2v14c0 1.1.9 2 2 2h14c1.1 0 2-.9 2-2V5c0-1.1-.9-2-2-2zM9 17H7v-7h2v7zm4 0h-2V7h2v10zm4 0h-2v-4h2v4z\"/>\n",
              "    </g>\n",
              "</svg>\n",
              "  </button>\n",
              "\n",
              "<style>\n",
              "  .colab-df-quickchart {\n",
              "      --bg-color: #E8F0FE;\n",
              "      --fill-color: #1967D2;\n",
              "      --hover-bg-color: #E2EBFA;\n",
              "      --hover-fill-color: #174EA6;\n",
              "      --disabled-fill-color: #AAA;\n",
              "      --disabled-bg-color: #DDD;\n",
              "  }\n",
              "\n",
              "  [theme=dark] .colab-df-quickchart {\n",
              "      --bg-color: #3B4455;\n",
              "      --fill-color: #D2E3FC;\n",
              "      --hover-bg-color: #434B5C;\n",
              "      --hover-fill-color: #FFFFFF;\n",
              "      --disabled-bg-color: #3B4455;\n",
              "      --disabled-fill-color: #666;\n",
              "  }\n",
              "\n",
              "  .colab-df-quickchart {\n",
              "    background-color: var(--bg-color);\n",
              "    border: none;\n",
              "    border-radius: 50%;\n",
              "    cursor: pointer;\n",
              "    display: none;\n",
              "    fill: var(--fill-color);\n",
              "    height: 32px;\n",
              "    padding: 0;\n",
              "    width: 32px;\n",
              "  }\n",
              "\n",
              "  .colab-df-quickchart:hover {\n",
              "    background-color: var(--hover-bg-color);\n",
              "    box-shadow: 0 1px 2px rgba(60, 64, 67, 0.3), 0 1px 3px 1px rgba(60, 64, 67, 0.15);\n",
              "    fill: var(--button-hover-fill-color);\n",
              "  }\n",
              "\n",
              "  .colab-df-quickchart-complete:disabled,\n",
              "  .colab-df-quickchart-complete:disabled:hover {\n",
              "    background-color: var(--disabled-bg-color);\n",
              "    fill: var(--disabled-fill-color);\n",
              "    box-shadow: none;\n",
              "  }\n",
              "\n",
              "  .colab-df-spinner {\n",
              "    border: 2px solid var(--fill-color);\n",
              "    border-color: transparent;\n",
              "    border-bottom-color: var(--fill-color);\n",
              "    animation:\n",
              "      spin 1s steps(1) infinite;\n",
              "  }\n",
              "\n",
              "  @keyframes spin {\n",
              "    0% {\n",
              "      border-color: transparent;\n",
              "      border-bottom-color: var(--fill-color);\n",
              "      border-left-color: var(--fill-color);\n",
              "    }\n",
              "    20% {\n",
              "      border-color: transparent;\n",
              "      border-left-color: var(--fill-color);\n",
              "      border-top-color: var(--fill-color);\n",
              "    }\n",
              "    30% {\n",
              "      border-color: transparent;\n",
              "      border-left-color: var(--fill-color);\n",
              "      border-top-color: var(--fill-color);\n",
              "      border-right-color: var(--fill-color);\n",
              "    }\n",
              "    40% {\n",
              "      border-color: transparent;\n",
              "      border-right-color: var(--fill-color);\n",
              "      border-top-color: var(--fill-color);\n",
              "    }\n",
              "    60% {\n",
              "      border-color: transparent;\n",
              "      border-right-color: var(--fill-color);\n",
              "    }\n",
              "    80% {\n",
              "      border-color: transparent;\n",
              "      border-right-color: var(--fill-color);\n",
              "      border-bottom-color: var(--fill-color);\n",
              "    }\n",
              "    90% {\n",
              "      border-color: transparent;\n",
              "      border-bottom-color: var(--fill-color);\n",
              "    }\n",
              "  }\n",
              "</style>\n",
              "\n",
              "  <script>\n",
              "    async function quickchart(key) {\n",
              "      const quickchartButtonEl =\n",
              "        document.querySelector('#' + key + ' button');\n",
              "      quickchartButtonEl.disabled = true;  // To prevent multiple clicks.\n",
              "      quickchartButtonEl.classList.add('colab-df-spinner');\n",
              "      try {\n",
              "        const charts = await google.colab.kernel.invokeFunction(\n",
              "            'suggestCharts', [key], {});\n",
              "      } catch (error) {\n",
              "        console.error('Error during call to suggestCharts:', error);\n",
              "      }\n",
              "      quickchartButtonEl.classList.remove('colab-df-spinner');\n",
              "      quickchartButtonEl.classList.add('colab-df-quickchart-complete');\n",
              "    }\n",
              "    (() => {\n",
              "      let quickchartButtonEl =\n",
              "        document.querySelector('#df-2e794b51-fa12-4e84-ac5f-3c6f06c9661f button');\n",
              "      quickchartButtonEl.style.display =\n",
              "        google.colab.kernel.accessAllowed ? 'block' : 'none';\n",
              "    })();\n",
              "  </script>\n",
              "</div>\n",
              "    </div>\n",
              "  </div>\n"
            ],
            "application/vnd.google.colaboratory.intrinsic+json": {
              "type": "dataframe",
              "variable_name": "dt",
              "summary": "{\n  \"name\": \"dt\",\n  \"rows\": 1461,\n  \"fields\": [\n    {\n      \"column\": \"date\",\n      \"properties\": {\n        \"dtype\": \"object\",\n        \"num_unique_values\": 1461,\n        \"samples\": [\n          \"2014-06-11\",\n          \"2015-01-10\",\n          \"2013-02-17\"\n        ],\n        \"semantic_type\": \"\",\n        \"description\": \"\"\n      }\n    },\n    {\n      \"column\": \"precipitation\",\n      \"properties\": {\n        \"dtype\": \"number\",\n        \"std\": 6.680194322314738,\n        \"min\": 0.0,\n        \"max\": 55.9,\n        \"num_unique_values\": 111,\n        \"samples\": [\n          43.4,\n          8.1,\n          1.3\n        ],\n        \"semantic_type\": \"\",\n        \"description\": \"\"\n      }\n    },\n    {\n      \"column\": \"temp_max\",\n      \"properties\": {\n        \"dtype\": \"number\",\n        \"std\": 7.349758097360177,\n        \"min\": -1.6,\n        \"max\": 35.6,\n        \"num_unique_values\": 67,\n        \"samples\": [\n          25.6,\n          8.3,\n          8.9\n        ],\n        \"semantic_type\": \"\",\n        \"description\": \"\"\n      }\n    },\n    {\n      \"column\": \"temp_min\",\n      \"properties\": {\n        \"dtype\": \"number\",\n        \"std\": 5.023004179961266,\n        \"min\": -7.1,\n        \"max\": 18.3,\n        \"num_unique_values\": 55,\n        \"samples\": [\n          13.3,\n          0.6,\n          14.4\n        ],\n        \"semantic_type\": \"\",\n        \"description\": \"\"\n      }\n    },\n    {\n      \"column\": \"wind\",\n      \"properties\": {\n        \"dtype\": \"number\",\n        \"std\": 1.4378250588746193,\n        \"min\": 0.4,\n        \"max\": 9.5,\n        \"num_unique_values\": 79,\n        \"samples\": [\n          8.1,\n          4.7,\n          2.6\n        ],\n        \"semantic_type\": \"\",\n        \"description\": \"\"\n      }\n    },\n    {\n      \"column\": \"weather\",\n      \"properties\": {\n        \"dtype\": \"category\",\n        \"num_unique_values\": 5,\n        \"samples\": [\n          \"rain\",\n          \"fog\",\n          \"sun\"\n        ],\n        \"semantic_type\": \"\",\n        \"description\": \"\"\n      }\n    }\n  ]\n}"
            }
          },
          "metadata": {},
          "execution_count": 4
        }
      ]
    },
    {
      "cell_type": "code",
      "source": [
        "dt.isnull().sum()"
      ],
      "metadata": {
        "colab": {
          "base_uri": "https://localhost:8080/"
        },
        "id": "E_v3C0BUftSx",
        "outputId": "6218d4ff-ad42-43b4-ede0-17bcd3a21285"
      },
      "execution_count": null,
      "outputs": [
        {
          "output_type": "execute_result",
          "data": {
            "text/plain": [
              "date             0\n",
              "precipitation    0\n",
              "temp_max         0\n",
              "temp_min         0\n",
              "wind             0\n",
              "weather          0\n",
              "dtype: int64"
            ]
          },
          "metadata": {},
          "execution_count": 5
        }
      ]
    },
    {
      "cell_type": "code",
      "source": [
        "dt.dtypes"
      ],
      "metadata": {
        "colab": {
          "base_uri": "https://localhost:8080/"
        },
        "id": "uzOJejPzfuil",
        "outputId": "36d23d1b-7ad0-47af-8357-01eab6460d13"
      },
      "execution_count": null,
      "outputs": [
        {
          "output_type": "execute_result",
          "data": {
            "text/plain": [
              "date              object\n",
              "precipitation    float64\n",
              "temp_max         float64\n",
              "temp_min         float64\n",
              "wind             float64\n",
              "weather           object\n",
              "dtype: object"
            ]
          },
          "metadata": {},
          "execution_count": 7
        }
      ]
    },
    {
      "cell_type": "code",
      "source": [
        "dt['weather'].unique()"
      ],
      "metadata": {
        "colab": {
          "base_uri": "https://localhost:8080/"
        },
        "id": "wA25sWmBfxFw",
        "outputId": "e16f13af-dd50-4925-a883-247571b1aba8"
      },
      "execution_count": null,
      "outputs": [
        {
          "output_type": "execute_result",
          "data": {
            "text/plain": [
              "array(['drizzle', 'rain', 'sun', 'snow', 'fog'], dtype=object)"
            ]
          },
          "metadata": {},
          "execution_count": 9
        }
      ]
    },
    {
      "cell_type": "code",
      "source": [
        "from sklearn.preprocessing import LabelEncoder\n",
        "lb = LabelEncoder()\n",
        "dt['weather'] = lb.fit_transform(dt['weather'] )"
      ],
      "metadata": {
        "id": "rBsy31FZf6WR"
      },
      "execution_count": null,
      "outputs": []
    },
    {
      "cell_type": "code",
      "source": [
        "\n",
        "dt['date'] = pd.to_datetime(dt['date'])\n",
        "\n",
        "reference_date = pd.to_datetime('2012-01-01')\n",
        "\n",
        "dt['date'] = (dt['date'] - reference_date).dt.days\n",
        "\n"
      ],
      "metadata": {
        "id": "4XLvBo6ogSB7"
      },
      "execution_count": null,
      "outputs": []
    },
    {
      "cell_type": "code",
      "source": [
        "from sklearn.preprocessing import StandardScaler\n",
        "\n",
        "scaler = StandardScaler()\n",
        "feature_columns = ['date','precipitation','temp_max','temp_min','wind']\n",
        "dt[feature_columns] = scaler.fit_transform(dt[feature_columns])\n",
        "\n"
      ],
      "metadata": {
        "id": "OlW9WB19hgQJ"
      },
      "execution_count": null,
      "outputs": []
    },
    {
      "cell_type": "code",
      "source": [
        "import numpy as np\n",
        "from sklearn.model_selection import train_test_split\n",
        "from keras.models import Sequential\n",
        "from keras.layers import SimpleRNN, Dense\n",
        "\n",
        "# Assuming dt is your DataFrame containing the dataset\n",
        "x_columns = ['date', 'precipitation', 'temp_max', 'temp_min', 'wind']\n",
        "y_column = 'weather'\n",
        "\n",
        "# Split the data into training and validation sets\n",
        "x_train, x_val, y_train, y_val = train_test_split(dt[x_columns].values, dt[y_column].values, test_size=0.2, random_state=42)\n",
        "\n",
        "# Reshape input features for SimpleRNN\n",
        "x_train_reshaped = x_train.reshape(-1, len(x_columns), 1)\n",
        "x_val_reshaped = x_val.reshape(-1, len(x_columns), 1)\n",
        "\n",
        "# Define the RNN model\n",
        "model = Sequential()\n",
        "model.add(SimpleRNN(32, input_shape=(len(x_columns), 1)))\n",
        "model.add(Dense(1))\n",
        "\n",
        "# Compile the model\n",
        "model.compile(optimizer='adam', loss='mse')\n",
        "\n",
        "# Train the model with validation data\n",
        "history = model.fit(x_train_reshaped, y_train, epochs=20, batch_size=32, validation_data=(x_val_reshaped, y_val))\n"
      ],
      "metadata": {
        "colab": {
          "base_uri": "https://localhost:8080/"
        },
        "id": "qsNdJ6yuid5B",
        "outputId": "f29228d4-9790-4385-af07-5eae0d28e03a"
      },
      "execution_count": null,
      "outputs": [
        {
          "output_type": "stream",
          "name": "stdout",
          "text": [
            "Epoch 1/20\n",
            "37/37 [==============================] - 4s 38ms/step - loss: 0.8513 - val_loss: 0.7407\n",
            "Epoch 2/20\n",
            "37/37 [==============================] - 0s 10ms/step - loss: 0.8184 - val_loss: 0.7428\n",
            "Epoch 3/20\n",
            "37/37 [==============================] - 0s 10ms/step - loss: 0.7980 - val_loss: 0.7291\n",
            "Epoch 4/20\n",
            "37/37 [==============================] - 0s 8ms/step - loss: 0.7880 - val_loss: 0.7368\n",
            "Epoch 5/20\n",
            "37/37 [==============================] - 0s 8ms/step - loss: 0.7822 - val_loss: 0.7262\n",
            "Epoch 6/20\n",
            "37/37 [==============================] - 0s 8ms/step - loss: 0.7673 - val_loss: 0.7161\n",
            "Epoch 7/20\n",
            "37/37 [==============================] - 0s 7ms/step - loss: 0.7595 - val_loss: 0.7304\n",
            "Epoch 8/20\n",
            "37/37 [==============================] - 1s 15ms/step - loss: 0.7546 - val_loss: 0.7086\n",
            "Epoch 9/20\n",
            "37/37 [==============================] - 0s 12ms/step - loss: 0.7429 - val_loss: 0.7079\n",
            "Epoch 10/20\n",
            "37/37 [==============================] - 0s 10ms/step - loss: 0.7375 - val_loss: 0.7014\n",
            "Epoch 11/20\n",
            "37/37 [==============================] - 0s 7ms/step - loss: 0.7329 - val_loss: 0.7027\n",
            "Epoch 12/20\n",
            "37/37 [==============================] - 0s 10ms/step - loss: 0.7312 - val_loss: 0.7096\n",
            "Epoch 13/20\n",
            "37/37 [==============================] - 0s 8ms/step - loss: 0.7361 - val_loss: 0.7080\n",
            "Epoch 14/20\n",
            "37/37 [==============================] - 0s 7ms/step - loss: 0.7218 - val_loss: 0.6822\n",
            "Epoch 15/20\n",
            "37/37 [==============================] - 0s 8ms/step - loss: 0.7195 - val_loss: 0.7099\n",
            "Epoch 16/20\n",
            "37/37 [==============================] - 0s 10ms/step - loss: 0.7167 - val_loss: 0.6698\n",
            "Epoch 17/20\n",
            "37/37 [==============================] - 0s 6ms/step - loss: 0.7112 - val_loss: 0.6776\n",
            "Epoch 18/20\n",
            "37/37 [==============================] - 0s 10ms/step - loss: 0.7164 - val_loss: 0.6761\n",
            "Epoch 19/20\n",
            "37/37 [==============================] - 0s 11ms/step - loss: 0.7048 - val_loss: 0.6802\n",
            "Epoch 20/20\n",
            "37/37 [==============================] - 0s 8ms/step - loss: 0.7040 - val_loss: 0.6577\n"
          ]
        }
      ]
    },
    {
      "cell_type": "code",
      "source": [
        "import matplotlib.pyplot as plt\n",
        "hist_df=pd.DataFrame(history.history)\n",
        "\n",
        "\n",
        "plt.plot(hist_df['loss'], label='Training Loss')\n",
        "plt.plot(hist_df['val_loss'], label='Validation Loss')\n",
        "plt.xlabel('Epochs')\n",
        "plt.ylabel('Loss')\n",
        "plt.title('Training and Validation Loss')\n",
        "plt.legend()\n",
        "plt.show()\n",
        "\n"
      ],
      "metadata": {
        "colab": {
          "base_uri": "https://localhost:8080/",
          "height": 472
        },
        "id": "HeLZ0a1ewUFd",
        "outputId": "81307372-f5c7-4b0a-d166-6c5ad40f5d11"
      },
      "execution_count": null,
      "outputs": [
        {
          "output_type": "display_data",
          "data": {
            "text/plain": [
              "<Figure size 640x480 with 1 Axes>"
            ],
            "image/png": "[encoded data removed]"
          },
          "metadata": {}
        }
      ]
    },
    {
      "cell_type": "code",
      "source": [
        "from sklearn.metrics import accuracy_score\n",
        "y_pred = model.predict(x_val)\n",
        "from sklearn.metrics import mean_absolute_error\n",
        "\n",
        "mae = mean_absolute_error(y_val, y_pred)\n",
        "print(f\"The mean absolute error :  {mae}\")\n"
      ],
      "metadata": {
        "colab": {
          "base_uri": "https://localhost:8080/"
        },
        "id": "OmY5obwQxz6W",
        "outputId": "722ddea4-6304-498d-bff9-ecb381fe8fb9"
      },
      "execution_count": null,
      "outputs": [
        {
          "output_type": "stream",
          "name": "stdout",
          "text": [
            "10/10 [==============================] - 0s 5ms/step\n",
            "The mean absolute error :  0.781531855700252\n"
          ]
        }
      ]
    },
    {
      "cell_type": "code",
      "source": [
        "from keras.models import Sequential\n",
        "from keras.layers import LSTM,Dense\n",
        "\n",
        "\n",
        "\n",
        "model = Sequential()\n",
        "model.add(LSTM(32, input_shape=(5, 1)))\n",
        "model.add(Dense(1))\n",
        "model.compile(optimizer='adam', loss='mse')\n",
        "\n",
        "history2 = model.fit(x_train, y_train, epochs=20, batch_size=32, validation_data=(x_val, y_val))\n"
      ],
      "metadata": {
        "colab": {
          "base_uri": "https://localhost:8080/"
        },
        "id": "O8HKFtifw2P7",
        "outputId": "2e25f36f-205d-4966-ec04-873226501ab3"
      },
      "execution_count": null,
      "outputs": [
        {
          "output_type": "stream",
          "name": "stdout",
          "text": [
            "Epoch 1/20\n",
            "37/37 [==============================] - 4s 27ms/step - loss: 0.9975 - val_loss: 0.9802\n",
            "Epoch 2/20\n",
            "37/37 [==============================] - 0s 9ms/step - loss: 0.9923 - val_loss: 0.9755\n",
            "Epoch 3/20\n",
            "37/37 [==============================] - 0s 8ms/step - loss: 0.9881 - val_loss: 0.9674\n",
            "Epoch 4/20\n",
            "37/37 [==============================] - 0s 9ms/step - loss: 0.9836 - val_loss: 0.9619\n",
            "Epoch 5/20\n",
            "37/37 [==============================] - 0s 9ms/step - loss: 0.9764 - val_loss: 0.9483\n",
            "Epoch 6/20\n",
            "37/37 [==============================] - 0s 7ms/step - loss: 0.9639 - val_loss: 0.9178\n",
            "Epoch 7/20\n",
            "37/37 [==============================] - 0s 6ms/step - loss: 0.9394 - val_loss: 0.8848\n",
            "Epoch 8/20\n",
            "37/37 [==============================] - 0s 5ms/step - loss: 0.9218 - val_loss: 0.8614\n",
            "Epoch 9/20\n",
            "37/37 [==============================] - 0s 6ms/step - loss: 0.9149 - val_loss: 0.8690\n",
            "Epoch 10/20\n",
            "37/37 [==============================] - 0s 5ms/step - loss: 0.9126 - val_loss: 0.8619\n",
            "Epoch 11/20\n",
            "37/37 [==============================] - 0s 5ms/step - loss: 0.9054 - val_loss: 0.8546\n",
            "Epoch 12/20\n",
            "37/37 [==============================] - 0s 6ms/step - loss: 0.9048 - val_loss: 0.8526\n",
            "Epoch 13/20\n",
            "37/37 [==============================] - 0s 5ms/step - loss: 0.9000 - val_loss: 0.8560\n",
            "Epoch 14/20\n",
            "37/37 [==============================] - 0s 7ms/step - loss: 0.8973 - val_loss: 0.8561\n",
            "Epoch 15/20\n",
            "37/37 [==============================] - 0s 5ms/step - loss: 0.8946 - val_loss: 0.8545\n",
            "Epoch 16/20\n",
            "37/37 [==============================] - 0s 5ms/step - loss: 0.8926 - val_loss: 0.8517\n",
            "Epoch 17/20\n",
            "37/37 [==============================] - 0s 6ms/step - loss: 0.8913 - val_loss: 0.8529\n",
            "Epoch 18/20\n",
            "37/37 [==============================] - 0s 6ms/step - loss: 0.8894 - val_loss: 0.8522\n",
            "Epoch 19/20\n",
            "37/37 [==============================] - 0s 6ms/step - loss: 0.8863 - val_loss: 0.8555\n",
            "Epoch 20/20\n",
            "37/37 [==============================] - 0s 5ms/step - loss: 0.8860 - val_loss: 0.8510\n"
          ]
        }
      ]
    },
    {
      "cell_type": "code",
      "source": [
        "import matplotlib.pyplot as plt\n",
        "\n",
        "hist_df=pd.DataFrame(history2.history)\n",
        "\n",
        "plt.plot(hist_df['loss'], label='Training Loss')\n",
        "plt.plot(hist_df['val_loss'], label='Validation Loss')\n",
        "plt.xlabel('Epochs')\n",
        "plt.ylabel('Loss')\n",
        "plt.title('Training and Validation Loss')\n",
        "plt.legend()\n",
        "plt.show()\n",
        "\n"
      ],
      "metadata": {
        "colab": {
          "base_uri": "https://localhost:8080/",
          "height": 472
        },
        "id": "_uwYCYTpxeQI",
        "outputId": "2c54f215-e3c3-4787-94db-e80588296b33"
      },
      "execution_count": null,
      "outputs": [
        {
          "output_type": "display_data",
          "data": {
            "text/plain": [
              "<Figure size 640x480 with 1 Axes>"
            ],
            "image/png": "[encoded data removed]"
          },
          "metadata": {}
        }
      ]
    },
    {
      "cell_type": "code",
      "source": [
        "from sklearn.metrics import accuracy_score\n",
        "y_pred = model.predict(x_val)\n",
        "from sklearn.metrics import mean_absolute_error\n",
        "\n",
        "mae = mean_absolute_error(y_val, y_pred)\n",
        "print(f\"The mean absolute error :  {mae}\")"
      ],
      "metadata": {
        "colab": {
          "base_uri": "https://localhost:8080/"
        },
        "id": "KMCYCeYmylWh",
        "outputId": "472b0aa5-e3ea-42ed-cf64-5fc9193c8cb0"
      },
      "execution_count": null,
      "outputs": [
        {
          "output_type": "stream",
          "name": "stdout",
          "text": [
            "10/10 [==============================] - 0s 3ms/step\n",
            "The mean absolute error :  0.7870546100689126\n"
          ]
        }
      ]
    },
    {
      "cell_type": "markdown",
      "source": [
        "MACHINE TRANSLATE - Rule based"
      ],
      "metadata": {
        "id": "JYmSBtJ19bgu"
      }
    },
    {
      "cell_type": "code",
      "source": [
        "\n",
        "english_to_german = {\n",
        "    \"hello\": \"hallo\",\n",
        "    \"world\": \"Welt\",\n",
        "    \"good\": \"gut\",\n",
        "    \"morning\": \"Morgen\",\n",
        "    \"afternoon\": \"Nachmittag\",\n",
        "    \"evening\": \"Abend\",\n",
        "\n",
        "}\n",
        "\n",
        "\n",
        "def translate_to_german(sentence):\n",
        "    translated_sentence = []\n",
        "    words = sentence.lower().split()\n",
        "    for word in words:\n",
        "        if word in english_to_german:\n",
        "            translated_sentence.append(english_to_german[word])\n",
        "        else:\n",
        "\n",
        "            translated_sentence.append(word)\n",
        "    return \" \".join(translated_sentence)\n",
        "\n",
        "\n",
        "english_sentence = input(\"Enter the English sentence: \")\n",
        "\n",
        "german_translation = translate_to_german(english_sentence)\n",
        "\n",
        "\n",
        "print(\"English:\", english_sentence)\n",
        "print(\"German:\", german_translation)\n"
      ],
      "metadata": {
        "colab": {
          "base_uri": "https://localhost:8080/"
        },
        "id": "n_z7XVLjdB5G",
        "outputId": "af4569ee-6956-4693-e18b-c751216dac14"
      },
      "execution_count": null,
      "outputs": [
        {
          "output_type": "stream",
          "name": "stdout",
          "text": [
            "Enter the English sentence: hello morning\n",
            "English: hello morning\n",
            "German: hallo Morgen\n"
          ]
        }
      ]
    }
  ]
}